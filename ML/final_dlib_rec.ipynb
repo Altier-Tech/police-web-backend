{
 "cells": [
  {
   "cell_type": "code",
   "execution_count": 1,
   "id": "initial_id",
   "metadata": {
    "collapsed": true,
    "ExecuteTime": {
     "end_time": "2024-03-11T17:00:06.172021900Z",
     "start_time": "2024-03-11T17:00:06.066168700Z"
    }
   },
   "outputs": [],
   "source": [
    "import os\n",
    "import dlib\n",
    "import numpy as np"
   ]
  },
  {
   "cell_type": "markdown",
   "source": [
    "# Step 1: Compute face descriptors for training images"
   ],
   "metadata": {
    "collapsed": false
   },
   "id": "6c8650280a55f536"
  },
  {
   "cell_type": "code",
   "outputs": [],
   "source": [
    "def compute_face_descriptors(training_dataset_path):\n",
    "    detector = dlib.get_frontal_face_detector()\n",
    "    sp = dlib.shape_predictor(\"shape_predictor_5_face_landmarks.dat\")\n",
    "    facerec = dlib.face_recognition_model_v1(\"dlib_face_recognition_resnet_model_v1.dat\")\n",
    "\n",
    "    face_descriptors = []\n",
    "    face_labels = []\n",
    "\n",
    "    for filename in os.listdir(training_dataset_path):\n",
    "        if filename.endswith(\".jpg\"):\n",
    "            img_path = os.path.join(training_dataset_path, filename)\n",
    "            img = dlib.load_rgb_image(img_path)\n",
    "\n",
    "            detections = detector(img, 1)\n",
    "            if len(detections) > 0:\n",
    "                shape = sp(img, detections[0])\n",
    "                face_descriptor = facerec.compute_face_descriptor(img, shape)\n",
    "                face_descriptors.append(np.array(face_descriptor))\n",
    "                face_labels.append(filename)  # Use filename as label\n",
    "\n",
    "    return face_descriptors, face_labels"
   ],
   "metadata": {
    "collapsed": false,
    "ExecuteTime": {
     "end_time": "2024-03-11T17:00:08.215401900Z",
     "start_time": "2024-03-11T17:00:08.210459500Z"
    }
   },
   "id": "4bbfcdfdeb8e3039",
   "execution_count": 2
  },
  {
   "cell_type": "markdown",
   "source": [
    "# Step 2: Recognize faces"
   ],
   "metadata": {
    "collapsed": false
   },
   "id": "b2c92f55d3399f93"
  },
  {
   "cell_type": "code",
   "outputs": [],
   "source": [
    "def recognize_face(face_descriptors, face_labels, unknown_face_path, threshold=0.6):\n",
    "    detector = dlib.get_frontal_face_detector()\n",
    "    sp = dlib.shape_predictor(\"shape_predictor_5_face_landmarks.dat\")\n",
    "    facerec = dlib.face_recognition_model_v1(\"dlib_face_recognition_resnet_model_v1.dat\")\n",
    "\n",
    "    img = dlib.load_rgb_image(unknown_face_path)\n",
    "    detections = detector(img, 1)\n",
    "    if len(detections) > 0:\n",
    "        shape = sp(img, detections[0])\n",
    "        face_descriptor = facerec.compute_face_descriptor(img, shape)\n",
    "\n",
    "        distances = [np.linalg.norm(face_descriptor - train_descriptor) for train_descriptor in face_descriptors]\n",
    "        closest_index = np.argmin(distances)\n",
    "        min_distance = distances[closest_index]\n",
    "\n",
    "        if min_distance > threshold:\n",
    "            return \"Not identified\"\n",
    "        else:\n",
    "            label = face_labels[closest_index]\n",
    "            return label\n",
    "\n",
    "    else:\n",
    "        raise ValueError(\"No face detected in the image.\")"
   ],
   "metadata": {
    "collapsed": false,
    "ExecuteTime": {
     "end_time": "2024-03-11T17:04:38.720234300Z",
     "start_time": "2024-03-11T17:04:38.712843Z"
    }
   },
   "id": "277fb2cae7f958f1",
   "execution_count": 8
  },
  {
   "cell_type": "markdown",
   "source": [
    "# Example usage:"
   ],
   "metadata": {
    "collapsed": false
   },
   "id": "6b622299d8506783"
  },
  {
   "cell_type": "code",
   "outputs": [
    {
     "name": "stdout",
     "output_type": "stream",
     "text": [
      "The face is recognized as: test.jpg\n"
     ]
    }
   ],
   "source": [
    "face_descriptors, face_labels = compute_face_descriptors(\"dataset\")\n",
    "label = recognize_face(face_descriptors, face_labels, \"test.jpg\")\n",
    "print(\"The face is recognized as:\", label)"
   ],
   "metadata": {
    "collapsed": false,
    "ExecuteTime": {
     "end_time": "2024-03-11T17:05:18.834935900Z",
     "start_time": "2024-03-11T17:05:14.374614800Z"
    }
   },
   "id": "952d5c5a961f72ae",
   "execution_count": 10
  },
  {
   "cell_type": "code",
   "outputs": [],
   "source": [],
   "metadata": {
    "collapsed": false
   },
   "id": "cedf6cbcd3432f6b"
  }
 ],
 "metadata": {
  "kernelspec": {
   "display_name": "Python 3",
   "language": "python",
   "name": "python3"
  },
  "language_info": {
   "codemirror_mode": {
    "name": "ipython",
    "version": 2
   },
   "file_extension": ".py",
   "mimetype": "text/x-python",
   "name": "python",
   "nbconvert_exporter": "python",
   "pygments_lexer": "ipython2",
   "version": "2.7.6"
  }
 },
 "nbformat": 4,
 "nbformat_minor": 5
}
